{
  "nbformat": 4,
  "nbformat_minor": 0,
  "metadata": {
    "colab": {
      "provenance": [],
      "collapsed_sections": [],
      "authorship_tag": "ABX9TyP6AxpTXZB8IZxQ5qDf2We2",
      "include_colab_link": true
    },
    "kernelspec": {
      "name": "python3",
      "display_name": "Python 3"
    },
    "language_info": {
      "name": "python"
    }
  },
  "cells": [
    {
      "cell_type": "markdown",
      "metadata": {
        "id": "view-in-github",
        "colab_type": "text"
      },
      "source": [
        "<a href=\"https://colab.research.google.com/github/PersGraphics/ProyectoPiaClases/blob/main/tarea_Clases_Carmelo.ipynb\" target=\"_parent\"><img src=\"https://colab.research.google.com/assets/colab-badge.svg\" alt=\"Open In Colab\"/></a>"
      ]
    },
    {
      "cell_type": "markdown",
      "source": [
        "* Persona: nombre, apellidos\n",
        "+ Alumno(persona); especialidad, repetidor\n",
        "* Grupo: nombre, lista de alumnos, iterador, generador repetidor,generador no repetidor"
      ],
      "metadata": {
        "id": "egFRvLWmY14m"
      }
    },
    {
      "cell_type": "code",
      "execution_count": null,
      "metadata": {
        "id": "z-0cmPuNYYlI"
      },
      "outputs": [],
      "source": [
        "class Persona:\n",
        "  def __init__(self, nombre, apellidos):\n",
        "    self._nombre = nombre\n",
        "    self._apellidos = apellidos\n",
        "\n",
        "  @property\n",
        "  def nombre(self):\n",
        "    return self._nombre\n",
        "\n",
        "  @nombre.setter\n",
        "  def nombre(self, nombre):\n",
        "    self._nombre = nombre\n",
        "\n",
        "  @property\n",
        "  def apellidos(self):\n",
        "    return self._apellidos\n",
        "\n",
        "  @apellidos.setter\n",
        "  def apellidos(self, apellidos):\n",
        "    self._apellidos = apellidos\n",
        "  \n",
        "  def __str__(self):\n",
        "    return f'{self.nombre} {self.apellidos} '\n",
        "\n",
        "class Alumno(Persona):\n",
        "   def __init__(self,nombre, apellidos ,especialidad, repetidor=True):\n",
        "    super().__init__(nombre, apellidos)\n",
        "    self._especialidad = especialidad\n",
        "    self._repetidor = repetidor\n",
        "\n",
        "   @property\n",
        "   def especialidad(self):\n",
        "      return self._especialidad\n",
        "\n",
        "   @especialidad.setter\n",
        "   def especialidad(self, especialidad):\n",
        "      self._especialidad = especialidad\n",
        "  \n",
        "   @property\n",
        "   def repetidor(self):\n",
        "     return self._repetidor\n",
        "\n",
        "   @repetidor.setter\n",
        "   def repetidor(self, repetidor):\n",
        "    self._repetidor = repetidor\n",
        "\n",
        "\n",
        "class Grupo:\n",
        "\n",
        "   def __init__(self,nombre):\n",
        "    self._nombre = nombre\n",
        "    self._lista_alumnos = []\n",
        "    self._index=0\n",
        "    \n",
        "   def add_alumno(self, alumno):\n",
        "    self.lista_alumnos.append(alumno)\n",
        "\n",
        "   @property\n",
        "   def nombre(self):\n",
        "      return self._nombre\n",
        "\n",
        "   @nombre.setter\n",
        "   def nombre(self, nombre):\n",
        "      self._nombre = nombre\n",
        "  \n",
        "   @property\n",
        "   def lista_alumnos(self):\n",
        "     return self._lista_alumnos\n",
        "\n",
        "   @lista_alumnos.setter\n",
        "   def lista_alumnos(self, lista_alumnos):\n",
        "    self._lista_alumnos = lista_alumnos\n",
        "\n",
        "\n",
        "   def __iter__(self):\n",
        "    self._index = 0\n",
        "    return self\n",
        "\n",
        "   def __next__(self):\n",
        "      if self._index < len(self.lista_alumnos):\n",
        "        alumno = self.lista_alumnos[self._index] \n",
        "        self._index += 1\n",
        "        return alumno \n",
        "      raise StopIteration\n",
        "\n",
        "\n",
        "   def repetidores(self):\n",
        "     for i in range(0, len(self.lista_alumnos)):\n",
        "       if self.lista_alumnos[i].repetidor == True:\n",
        "        yield self.lista_alumnos[i]\n",
        "\n",
        "   def no_repetidores(self):\n",
        "    for i in range(0, len(self.lista_alumnos)):\n",
        "      if self.lista_alumnos[i].repetidor == False:\n",
        "       yield self.lista_alumnos[i]\n"
      ]
    },
    {
      "cell_type": "code",
      "source": [
        "# Creamos alumnos\n",
        "alumno1 = Alumno('Toby','Fernadez','Lengua')\n",
        "alumno2 = Alumno('Matias','Perez','Lengua', False)\n",
        "alumno3 = Alumno('Damian','Ruiz','Ingles')\n",
        "alumno4 = Alumno('Rabbit','Linares','Lengua')\n",
        "\n",
        "# Creamos grupo y alumnos\n",
        "grupo1 = Grupo('A')\n",
        "grupo1.add_alumno(alumno1)\n",
        "grupo1.add_alumno(alumno2)\n",
        "grupo1.add_alumno(alumno3)\n",
        "grupo1.add_alumno(alumno4)\n",
        "\n",
        "\n",
        "print('--ALUMNOS-- ' ) \n",
        "for lista_alumnos in grupo1:\n",
        "  print(lista_alumnos)\n",
        "\n",
        "print('\\n--REPETIDORES-- ' )  \n",
        "for alumno in grupo1.repetidores():\n",
        "  print(alumno)\n",
        "\n",
        "  \n",
        "print('\\n--NO REPETIDORES--')  \n",
        "for alumno in grupo1.no_repetidores():\n",
        "  print(alumno)\n",
        "\n",
        "\n",
        "\n"
      ],
      "metadata": {
        "colab": {
          "base_uri": "https://localhost:8080/"
        },
        "id": "OqEExSZ9aqKR",
        "outputId": "139320a6-d794-4bc3-e1e2-04c5c931e313"
      },
      "execution_count": null,
      "outputs": [
        {
          "output_type": "stream",
          "name": "stdout",
          "text": [
            "--ALUMNOS-- \n",
            "Toby Fernadez \n",
            "Matias Perez \n",
            "Damian Ruiz \n",
            "Rabbit Linares \n",
            "\n",
            "--REPETIDORES-- \n",
            "Toby Fernadez \n",
            "Damian Ruiz \n",
            "Rabbit Linares \n",
            "\n",
            "--NO REPETIDORES--\n",
            "Matias Perez \n"
          ]
        }
      ]
    }
  ]
}